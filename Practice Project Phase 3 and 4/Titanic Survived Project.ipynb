{
 "cells": [
  {
   "cell_type": "code",
   "execution_count": null,
   "id": "a3ae05b2",
   "metadata": {},
   "outputs": [],
   "source": [
    "import pandas as pd\n",
    "import numpy as np\n",
    "import seaborn as sns\n",
    "import matplotlib.pyplot as plt\n",
    "\n",
    "titanic_data = pd.read_csv(\"https://raw.githubusercontent.com/dsrscientist/dataset1/master/titanic_train.csv\")\n"
   ]
  },
  {
   "cell_type": "code",
   "execution_count": null,
   "id": "1eca93d7",
   "metadata": {},
   "outputs": [],
   "source": [
    "# Check the head of the dataset\n",
    "titanic_data.head()\n",
    "\n",
    "# Check for missing values\n",
    "titanic_data.isnull().sum()\n",
    "\n",
    "# Check the data types of each column\n",
    "titanic_data.info()\n",
    "\n",
    "# Statistical summary of the dataset\n",
    "titanic_data.describe()\n",
    "\n",
    "# Check the distribution of target variable\n",
    "sns.countplot(x='Survived', data=titanic_data)\n",
    "plt.show()\n"
   ]
  },
  {
   "cell_type": "code",
   "execution_count": null,
   "id": "c7ef2d81",
   "metadata": {},
   "outputs": [],
   "source": [
    "# Drop the columns with high missing values\n",
    "titanic_data.drop(['Cabin'], axis=1, inplace=True)\n",
    "\n",
    "# Fill the missing values in Age column with the mean value\n",
    "titanic_data['Age'].fillna(titanic_data['Age'].mean(), inplace=True)\n",
    "\n",
    "# Fill the missing values in Embarked column with the mode value\n",
    "titanic_data['Embarked'].fillna(titanic_data['Embarked'].mode()[0], inplace=True)\n",
    "\n",
    "# Convert categorical columns to numerical columns\n",
    "sex = pd.get_dummies(titanic_data['Sex'], drop_first=True)\n",
    "embark = pd.get_dummies(titanic_data['Embarked'], drop_first=True)\n",
    "\n",
    "# Concatenate the newly created columns to the original dataset\n",
    "titanic_data = pd.concat([titanic_data, sex, embark], axis=1)\n",
    "\n",
    "# Drop the unnecessary columns\n",
    "titanic_data.drop(['PassengerId', 'Sex', 'Embarked', 'Name', 'Ticket'], axis=1, inplace=True)\n"
   ]
  },
  {
   "cell_type": "code",
   "execution_count": null,
   "id": "77ba0f8a",
   "metadata": {},
   "outputs": [],
   "source": [
    "from sklearn.model_selection import train_test_split\n",
    "\n",
    "X = titanic_data.drop('Survived', axis=1)\n",
    "y = titanic_data['Survived']\n",
    "\n",
    "X_train, X_test, y_train, y_test = train_test_split(X, y, test_size=0.30, random_state=101)\n"
   ]
  },
  {
   "cell_type": "code",
   "execution_count": null,
   "id": "4b11564e",
   "metadata": {},
   "outputs": [],
   "source": [
    "from sklearn.linear_model import LogisticRegression\n",
    "\n",
    "logmodel = LogisticRegression()\n",
    "logmodel.fit(X_train, y_train)\n"
   ]
  },
  {
   "cell_type": "code",
   "execution_count": null,
   "id": "6f425443",
   "metadata": {},
   "outputs": [],
   "source": [
    "predictions = logmodel.predict(X_test)\n",
    "\n",
    "from sklearn.metrics import classification_report\n",
    "\n",
    "print(classification_report(y_test, predictions))\n"
   ]
  }
 ],
 "metadata": {
  "kernelspec": {
   "display_name": "Python 3 (ipykernel)",
   "language": "python",
   "name": "python3"
  },
  "language_info": {
   "codemirror_mode": {
    "name": "ipython",
    "version": 3
   },
   "file_extension": ".py",
   "mimetype": "text/x-python",
   "name": "python",
   "nbconvert_exporter": "python",
   "pygments_lexer": "ipython3",
   "version": "3.9.12"
  }
 },
 "nbformat": 4,
 "nbformat_minor": 5
}
