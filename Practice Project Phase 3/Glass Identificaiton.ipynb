{
 "cells": [
  {
   "cell_type": "code",
   "execution_count": null,
   "id": "7afb0e09",
   "metadata": {},
   "outputs": [],
   "source": [
    "import pandas as pd\n",
    "import numpy as np\n",
    "from sklearn.model_selection import train_test_split, GridSearchCV\n",
    "from sklearn.preprocessing import StandardScaler\n",
    "from sklearn.ensemble import RandomForestClassifier\n",
    "from sklearn.metrics import accuracy_score, classification_report"
   ]
  },
  {
   "cell_type": "code",
   "execution_count": null,
   "id": "072e2076",
   "metadata": {},
   "outputs": [],
   "source": [
    "# Step 1: Load the dataset\n",
    "url = \"https://raw.githubusercontent.com/dsrscientist/dataset3/main/glass.csv\"\n",
    "glass_data = pd.read_csv(url)"
   ]
  },
  {
   "cell_type": "code",
   "execution_count": null,
   "id": "c62e7042",
   "metadata": {},
   "outputs": [],
   "source": [
    "# Step 2: Data analysis and preprocessing\n",
    "print(\"Dataset Information:\")\n",
    "print(glass_data.info())"
   ]
  },
  {
   "cell_type": "code",
   "execution_count": null,
   "id": "faf5e278",
   "metadata": {},
   "outputs": [],
   "source": [
    "print(\"\\nClass Distribution:\")\n",
    "print(glass_data['Type'].value_counts())"
   ]
  },
  {
   "cell_type": "code",
   "execution_count": null,
   "id": "8d0fe958",
   "metadata": {},
   "outputs": [],
   "source": [
    "# Remove unnecessary columns (Id and non-existing class)\n",
    "glass_data = glass_data.drop(['Id'], axis=1)"
   ]
  },
  {
   "cell_type": "code",
   "execution_count": null,
   "id": "ca940fdf",
   "metadata": {},
   "outputs": [],
   "source": [
    "# Step 3: Split the data into features (X) and target variable (y)\n",
    "X = glass_data.drop('Type', axis=1)  # Features (all columns except 'Type')\n",
    "y = glass_data['Type']  # Target variable ('Type')"
   ]
  },
  {
   "cell_type": "code",
   "execution_count": null,
   "id": "1f28e6c8",
   "metadata": {},
   "outputs": [],
   "source": [
    "# Step 4: Split the data into training and testing sets\n",
    "X_train, X_test, y_train, y_test = train_test_split(X, y, test_size=0.2, random_state=42)"
   ]
  },
  {
   "cell_type": "code",
   "execution_count": null,
   "id": "d94762e6",
   "metadata": {},
   "outputs": [],
   "source": [
    "# Step 5: Feature scaling\n",
    "scaler = StandardScaler()\n",
    "X_train_scaled = scaler.fit_transform(X_train)\n",
    "X_test_scaled = scaler.transform(X_test)"
   ]
  },
  {
   "cell_type": "code",
   "execution_count": null,
   "id": "3eef5fbe",
   "metadata": {},
   "outputs": [],
   "source": [
    "# Step 6: Hyperparameter tuning with cross-validation\n",
    "param_grid = {\n",
    "    'n_estimators': [100, 200, 300],\n",
    "    'max_depth': [None, 5, 10],\n",
    "    'min_samples_split': [2, 5, 10],\n",
    "    'min_samples_leaf': [1, 2, 4]\n",
    "}\n",
    "\n",
    "rf_classifier = RandomForestClassifier(random_state=42)\n",
    "grid_search = GridSearchCV(rf_classifier, param_grid, cv=5)\n",
    "grid_search.fit(X_train_scaled, y_train)"
   ]
  },
  {
   "cell_type": "code",
   "execution_count": null,
   "id": "2210bca1",
   "metadata": {},
   "outputs": [],
   "source": [
    "# Best hyperparameters\n",
    "best_params = grid_search.best_params_\n",
    "print(\"\\nBest Hyperparameters:\")\n",
    "print(best_params)"
   ]
  },
  {
   "cell_type": "code",
   "execution_count": null,
   "id": "fc2a5cf7",
   "metadata": {},
   "outputs": [],
   "source": [
    "# Step 7: Train a Random Forest classifier with the best hyperparameters\n",
    "rf_classifier = RandomForestClassifier(random_state=42, **best_params)\n",
    "rf_classifier.fit(X_train_scaled, y_train)"
   ]
  },
  {
   "cell_type": "code",
   "execution_count": null,
   "id": "a2ffb2e2",
   "metadata": {},
   "outputs": [],
   "source": [
    "# Step 8: Make predictions on the test set\n",
    "y_pred = rf_classifier.predict(X_test_scaled)"
   ]
  },
  {
   "cell_type": "code",
   "execution_count": null,
   "id": "aa9825d7",
   "metadata": {},
   "outputs": [],
   "source": [
    "# Step 9: Evaluate the model's performance\n",
    "accuracy = accuracy_score(y_test, y_pred)\n",
    "classification_report = classification_report(y_test, y_pred)"
   ]
  },
  {
   "cell_type": "code",
   "execution_count": null,
   "id": "9bf4eb31",
   "metadata": {},
   "outputs": [],
   "source": [
    "# Step 10: Print the results\n",
    "print(\"\\nModel Performance:\")\n",
    "print(\"Accuracy:\", accuracy)"
   ]
  },
  {
   "cell_type": "code",
   "execution_count": null,
   "id": "be332c4e",
   "metadata": {},
   "outputs": [],
   "source": [
    "print(\"Classification Report:\")\n",
    "print(classification_report)"
   ]
  }
 ],
 "metadata": {
  "kernelspec": {
   "display_name": "Python 3 (ipykernel)",
   "language": "python",
   "name": "python3"
  },
  "language_info": {
   "codemirror_mode": {
    "name": "ipython",
    "version": 3
   },
   "file_extension": ".py",
   "mimetype": "text/x-python",
   "name": "python",
   "nbconvert_exporter": "python",
   "pygments_lexer": "ipython3",
   "version": "3.9.12"
  }
 },
 "nbformat": 4,
 "nbformat_minor": 5
}
