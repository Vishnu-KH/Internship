{
 "cells": [
  {
   "cell_type": "code",
   "execution_count": null,
   "id": "679f9970",
   "metadata": {},
   "outputs": [],
   "source": [
    "import pandas as pd\n",
    "import numpy as np\n",
    "from sklearn.preprocessing import LabelEncoder\n",
    "from sklearn.model_selection import train_test_split\n",
    "from sklearn.ensemble import RandomForestClassifier\n",
    "from sklearn.metrics import accuracy_score"
   ]
  },
  {
   "cell_type": "code",
   "execution_count": null,
   "id": "9204137f",
   "metadata": {},
   "outputs": [],
   "source": [
    "# Step 1: Load the datasets\n",
    "train_url = \"https://raw.githubusercontent.com/dsrscientist/dataset5/main/termdeposit_train.csv\"\n",
    "test_url = \"https://raw.githubusercontent.com/dsrscientist/dataset5/main/termdeposit_test.csv\""
   ]
  },
  {
   "cell_type": "code",
   "execution_count": null,
   "id": "4aa42d1f",
   "metadata": {},
   "outputs": [],
   "source": [
    "# Load the train and test datasets\n",
    "train_data = pd.read_csv(train_url)\n",
    "test_data = pd.read_csv(test_url)"
   ]
  },
  {
   "cell_type": "code",
   "execution_count": null,
   "id": "d9ea91db",
   "metadata": {},
   "outputs": [],
   "source": [
    "# Step 2: Data preprocessing\n",
    "\n",
    "# Combine train and test data for preprocessing\n",
    "combined_data = pd.concat([train_data, test_data], axis=0)"
   ]
  },
  {
   "cell_type": "code",
   "execution_count": null,
   "id": "f0d21e82",
   "metadata": {},
   "outputs": [],
   "source": [
    "# Handle missing values (if any)\n",
    "combined_data.dropna(inplace=True)"
   ]
  },
  {
   "cell_type": "code",
   "execution_count": null,
   "id": "b088e7e8",
   "metadata": {},
   "outputs": [],
   "source": [
    "# Encode categorical variables using LabelEncoder\n",
    "cat_cols = ['job', 'marital', 'education', 'default', 'housing', 'loan', 'contact', 'month', 'day_of_week', 'poutcome']\n",
    "label_encoder = LabelEncoder()"
   ]
  },
  {
   "cell_type": "code",
   "execution_count": null,
   "id": "07cbce22",
   "metadata": {},
   "outputs": [],
   "source": [
    "for col in cat_cols:\n",
    "    combined_data[col] = label_encoder.fit_transform(combined_data[col])"
   ]
  },
  {
   "cell_type": "code",
   "execution_count": null,
   "id": "e8a0d71b",
   "metadata": {},
   "outputs": [],
   "source": [
    "# Separate train and test data\n",
    "train_processed = combined_data[:len(train_data)]\n",
    "test_processed = combined_data[len(train_data):]"
   ]
  },
  {
   "cell_type": "code",
   "execution_count": null,
   "id": "066815de",
   "metadata": {},
   "outputs": [],
   "source": [
    "# Step 3: Split the data into features and target variable\n",
    "X = train_processed.drop(['ID', 'subscribed'], axis=1)\n",
    "y = train_processed['subscribed']"
   ]
  },
  {
   "cell_type": "code",
   "execution_count": null,
   "id": "e5bca690",
   "metadata": {},
   "outputs": [],
   "source": [
    "# Step 4: Split the data into training and validation sets\n",
    "X_train, X_val, y_train, y_val = train_test_split(X, y, test_size=0.2, random_state=42)"
   ]
  },
  {
   "cell_type": "code",
   "execution_count": null,
   "id": "eef1f8e2",
   "metadata": {},
   "outputs": [],
   "source": [
    "# Step 5: Train a Random Forest Classifier\n",
    "rf_classifier = RandomForestClassifier(random_state=42)\n",
    "rf_classifier.fit(X_train, y_train)"
   ]
  },
  {
   "cell_type": "code",
   "execution_count": null,
   "id": "bebd818e",
   "metadata": {},
   "outputs": [],
   "source": [
    "# Step 6: Make predictions on the validation set\n",
    "y_pred = rf_classifier.predict(X_val)"
   ]
  },
  {
   "cell_type": "code",
   "execution_count": null,
   "id": "688e5a25",
   "metadata": {},
   "outputs": [],
   "source": [
    "# Step 7: Evaluate the model's performance\n",
    "accuracy = accuracy_score(y_val, y_pred)\n",
    "print(\"Validation Accuracy:\", accuracy)"
   ]
  },
  {
   "cell_type": "code",
   "execution_count": null,
   "id": "cfd66400",
   "metadata": {},
   "outputs": [],
   "source": [
    "# Step 8: Make predictions on the test set\n",
    "X_test = test_processed.drop(['ID', 'subscribed'], axis=1)\n",
    "test_predictions = rf_classifier.predict(X_test)"
   ]
  },
  {
   "cell_type": "code",
   "execution_count": null,
   "id": "36461f30",
   "metadata": {},
   "outputs": [],
   "source": [
    "# Step 9: Save predictions to a CSV file\n",
    "test_data['subscribed'] = test_predictions\n",
    "test_data[['ID', 'subscribed']].to_csv('termdeposit_predictions.csv', index=False)"
   ]
  }
 ],
 "metadata": {
  "kernelspec": {
   "display_name": "Python 3 (ipykernel)",
   "language": "python",
   "name": "python3"
  },
  "language_info": {
   "codemirror_mode": {
    "name": "ipython",
    "version": 3
   },
   "file_extension": ".py",
   "mimetype": "text/x-python",
   "name": "python",
   "nbconvert_exporter": "python",
   "pygments_lexer": "ipython3",
   "version": "3.9.12"
  }
 },
 "nbformat": 4,
 "nbformat_minor": 5
}
