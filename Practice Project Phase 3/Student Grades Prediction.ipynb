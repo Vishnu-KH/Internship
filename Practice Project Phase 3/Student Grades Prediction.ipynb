{
 "cells": [
  {
   "cell_type": "code",
   "execution_count": null,
   "id": "2e65351f",
   "metadata": {},
   "outputs": [],
   "source": [
    "import pandas as pd\n",
    "import numpy as np\n",
    "from sklearn.model_selection import train_test_split\n",
    "from sklearn.linear_model import LinearRegression\n",
    "from sklearn.preprocessing import LabelEncoder, OneHotEncoder\n",
    "from sklearn.compose import ColumnTransformer\n",
    "from sklearn.metrics import mean_squared_error, r2_score"
   ]
  },
  {
   "cell_type": "code",
   "execution_count": null,
   "id": "978f559c",
   "metadata": {},
   "outputs": [],
   "source": [
    "# Step 1: Load the dataset\n",
    "url = \"https://github.com/dsrscientist/dataset4/raw/main/Grades.csv\"\n",
    "grades_data = pd.read_csv(url)"
   ]
  },
  {
   "cell_type": "code",
   "execution_count": null,
   "id": "1e0cebfc",
   "metadata": {},
   "outputs": [],
   "source": [
    "# Step 2: Data analysis and preprocessing\n",
    "print(\"Dataset Information:\")\n",
    "print(grades_data.info())"
   ]
  },
  {
   "cell_type": "code",
   "execution_count": null,
   "id": "dcd1541a",
   "metadata": {},
   "outputs": [],
   "source": [
    "# Step 3: Feature engineering and preprocessing\n",
    "X = grades_data.drop(['Seat No', 'CGPA'], axis=1)  # Features (all columns except 'Seat No' and 'CGPA')\n",
    "y = grades_data['CGPA']  # Target variable ('CGPA')"
   ]
  },
  {
   "cell_type": "code",
   "execution_count": null,
   "id": "99a6cbd1",
   "metadata": {},
   "outputs": [],
   "source": [
    "# Extract year from course codes\n",
    "X['Year'] = X['AB-XXX'].str.extract(r'(\\d{2})')"
   ]
  },
  {
   "cell_type": "code",
   "execution_count": null,
   "id": "dbc8b837",
   "metadata": {},
   "outputs": [],
   "source": [
    "# Step 4: Split the data into training and testing sets\n",
    "X_train, X_test, y_train, y_test = train_test_split(X, y, test_size=0.2, random_state=42)"
   ]
  },
  {
   "cell_type": "code",
   "execution_count": null,
   "id": "256b0916",
   "metadata": {},
   "outputs": [],
   "source": [
    "# Step 5: Perform feature encoding for categorical variables\n",
    "categorical_cols = ['AB-XXX']  # Categorical column(s) to encode\n",
    "one_hot_encoder = OneHotEncoder(drop='first')\n",
    "column_transformer = ColumnTransformer([('encoder', one_hot_encoder, categorical_cols)], remainder='passthrough')"
   ]
  },
  {
   "cell_type": "code",
   "execution_count": null,
   "id": "841c8605",
   "metadata": {},
   "outputs": [],
   "source": [
    "X_train_encoded = column_transformer.fit_transform(X_train)\n",
    "X_test_encoded = column_transformer.transform(X_test)"
   ]
  },
  {
   "cell_type": "code",
   "execution_count": null,
   "id": "7fe22ab8",
   "metadata": {},
   "outputs": [],
   "source": [
    "# Step 6: Train a Linear Regression model\n",
    "linear_regression = LinearRegression()\n",
    "linear_regression.fit(X_train_encoded, y_train)"
   ]
  },
  {
   "cell_type": "code",
   "execution_count": null,
   "id": "97f65968",
   "metadata": {},
   "outputs": [],
   "source": [
    "# Step 7: Make predictions on the test set\n",
    "y_pred = linear_regression.predict(X_test_encoded)"
   ]
  },
  {
   "cell_type": "code",
   "execution_count": null,
   "id": "0f617ed9",
   "metadata": {},
   "outputs": [],
   "source": [
    "# Step 8: Evaluate the model's performance\n",
    "mse = mean_squared_error(y_test, y_pred)\n",
    "r2 = r2_score(y_test, y_pred)"
   ]
  },
  {
   "cell_type": "code",
   "execution_count": null,
   "id": "7d352046",
   "metadata": {},
   "outputs": [],
   "source": [
    "# Step 9: Print the results\n",
    "print(\"Mean Squared Error (MSE):\", mse)"
   ]
  },
  {
   "cell_type": "code",
   "execution_count": null,
   "id": "5f63261a",
   "metadata": {},
   "outputs": [],
   "source": [
    "print(\"R-squared (R2) Score:\", r2)"
   ]
  }
 ],
 "metadata": {
  "kernelspec": {
   "display_name": "Python 3 (ipykernel)",
   "language": "python",
   "name": "python3"
  }
 },
 "nbformat": 4,
 "nbformat_minor": 5
}
